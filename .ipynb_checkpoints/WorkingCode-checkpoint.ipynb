{
 "cells": [
  {
   "cell_type": "markdown",
   "metadata": {},
   "source": [
    "### Importing all the necessary Pandas libraries"
   ]
  },
  {
   "cell_type": "code",
   "execution_count": 193,
   "metadata": {},
   "outputs": [],
   "source": [
    "# Importing all the necessary libraries\n",
    "\n",
    "import pandas as pd\n",
    "from matplotlib import pyplot as plt\n",
    "import seaborn as sns\n",
    "import numpy as np"
   ]
  },
  {
   "cell_type": "markdown",
   "metadata": {},
   "source": [
    "### Reading the dataset "
   ]
  },
  {
   "cell_type": "code",
   "execution_count": 194,
   "metadata": {},
   "outputs": [],
   "source": [
    "# Dataset contains different types of food data (calories,fat,protein&fat) along with COVID 19 data by list of countries\n",
    "# According to the datasource Food intake data is represented % of total intake amount\n",
    "\n",
    "calories = pd.read_csv('Food_Supply_kcal_Data.csv')\n",
    "protein = pd.read_csv('Protein_Supply_Quantity_Data.csv')\n",
    "fat = pd.read_csv('Fat_Supply_Quantity_Data.csv')\n",
    "qty = pd.read_csv('Food_Supply_Quantity_kg_Data.csv')"
   ]
  },
  {
   "cell_type": "code",
   "execution_count": 195,
   "metadata": {},
   "outputs": [
    {
     "name": "stdout",
     "output_type": "stream",
     "text": [
      "There are 170 rows and 33 columns\n"
     ]
    }
   ],
   "source": [
    "# Checking the dataset\n",
    "\n",
    "nRow, nCol = calories.shape\n",
    "print(f'There are {nRow} rows and {nCol} columns')"
   ]
  },
  {
   "cell_type": "code",
   "execution_count": 196,
   "metadata": {},
   "outputs": [
    {
     "data": {
      "text/plain": [
       "Country                         0\n",
       "Continent                       0\n",
       "Alcoholic Beverages             0\n",
       "Animal Products                 0\n",
       "Animal fats                     0\n",
       "Aquatic Products, Other         0\n",
       "Cereals - Excluding Beer        0\n",
       "Eggs                            0\n",
       "Fish, Seafood                   0\n",
       "Fruits - Excluding Wine         0\n",
       "Meat                            0\n",
       "Milk - Excluding Butter         0\n",
       "Miscellaneous                   0\n",
       "Offals                          0\n",
       "Oilcrops                        0\n",
       "Pulses                          0\n",
       "Spices                          0\n",
       "Starchy Roots                   0\n",
       "Stimulants                      0\n",
       "Sugar Crops                     0\n",
       "Sugar & Sweeteners              0\n",
       "Treenuts                        0\n",
       "Vegetal Products                0\n",
       "Vegetable Oils                  0\n",
       "Vegetables                      0\n",
       "Obesity                         3\n",
       "Undernourished                  7\n",
       "Confirmed                       6\n",
       "Deaths                          6\n",
       "Recovered                       6\n",
       "Active                          8\n",
       "Population                      0\n",
       "Unit (all except Population)    0\n",
       "dtype: int64"
      ]
     },
     "execution_count": 196,
     "metadata": {},
     "output_type": "execute_result"
    }
   ],
   "source": [
    "# Checking sample dataset for any NaN values in the columns of interest\n",
    "\n",
    "# calories.info()\n",
    "calories.isna().sum()"
   ]
  },
  {
   "cell_type": "code",
   "execution_count": 197,
   "metadata": {},
   "outputs": [],
   "source": [
    "# Dropping countries where 'Confirmed' COVID cases,'Undernourished' & 'Obesity' data is Not Available\n",
    "\n",
    "calories.dropna(subset=['Confirmed','Undernourished','Obesity'],inplace=True)\n",
    "protein.dropna(subset=['Confirmed','Undernourished','Obesity'],inplace=True)\n",
    "fat.dropna(subset=['Confirmed','Undernourished','Obesity'],inplace=True)\n",
    "qty.dropna(subset=['Confirmed','Undernourished','Obesity'],inplace=True)\n",
    "\n"
   ]
  },
  {
   "cell_type": "code",
   "execution_count": 198,
   "metadata": {},
   "outputs": [
    {
     "data": {
      "text/plain": [
       "Country                         0\n",
       "Continent                       0\n",
       "Alcoholic Beverages             0\n",
       "Animal Products                 0\n",
       "Animal fats                     0\n",
       "Aquatic Products, Other         0\n",
       "Cereals - Excluding Beer        0\n",
       "Eggs                            0\n",
       "Fish, Seafood                   0\n",
       "Fruits - Excluding Wine         0\n",
       "Meat                            0\n",
       "Milk - Excluding Butter         0\n",
       "Miscellaneous                   0\n",
       "Offals                          0\n",
       "Oilcrops                        0\n",
       "Pulses                          0\n",
       "Spices                          0\n",
       "Starchy Roots                   0\n",
       "Stimulants                      0\n",
       "Sugar Crops                     0\n",
       "Sugar & Sweeteners              0\n",
       "Treenuts                        0\n",
       "Vegetal Products                0\n",
       "Vegetable Oils                  0\n",
       "Vegetables                      0\n",
       "Obesity                         0\n",
       "Undernourished                  0\n",
       "Confirmed                       0\n",
       "Deaths                          0\n",
       "Recovered                       0\n",
       "Active                          2\n",
       "Population                      0\n",
       "Unit (all except Population)    0\n",
       "dtype: int64"
      ]
     },
     "execution_count": 198,
     "metadata": {},
     "output_type": "execute_result"
    }
   ],
   "source": [
    "#Checking for NaN values\n",
    "\n",
    "calories.isna().sum()"
   ]
  },
  {
   "cell_type": "code",
   "execution_count": 126,
   "metadata": {},
   "outputs": [],
   "source": [
    "# Aggregating by continents\n",
    "\n",
    "# calories.groupby(['Continent']).mean()"
   ]
  },
  {
   "cell_type": "code",
   "execution_count": 154,
   "metadata": {},
   "outputs": [],
   "source": [
    "# Least number of confirmed COVID cases as % of population\n",
    "# calories[calories['Confirmed'] == calories['Confirmed'].min()]"
   ]
  },
  {
   "cell_type": "code",
   "execution_count": 49,
   "metadata": {},
   "outputs": [],
   "source": [
    "# Most number of confirmed COVID cases as % of population\n",
    "#calories[calories['Confirmed'] == calories['Confirmed'].max()] "
   ]
  },
  {
   "cell_type": "code",
   "execution_count": 199,
   "metadata": {},
   "outputs": [
    {
     "name": "stdout",
     "output_type": "stream",
     "text": [
      "0      100.0000\n",
      "1      100.0000\n",
      "2      100.0000\n",
      "3      100.0000\n",
      "5      100.0000\n",
      "         ...   \n",
      "165     99.9999\n",
      "166    100.0001\n",
      "167    100.0001\n",
      "168    100.0002\n",
      "169    100.0002\n",
      "Length: 156, dtype: float64\n"
     ]
    }
   ],
   "source": [
    "# Validating that Total of intake columns % values equal to 100.\n",
    "\n",
    "total = qty.iloc[:, 2:25].sum(axis=1)\n",
    "print(total)\n"
   ]
  },
  {
   "cell_type": "code",
   "execution_count": 130,
   "metadata": {},
   "outputs": [],
   "source": [
    "# Undernourished column has floats and 'strings', which needs to be cleaned up before further processing\n",
    "# Population column has absolute numbers, which needs to truncated for display purposes.\n",
    "# Last column \"Unit\" has no purpose for analysis\n",
    "\n",
    "# calories['Undernourished'].head(25) "
   ]
  },
  {
   "cell_type": "code",
   "execution_count": 200,
   "metadata": {},
   "outputs": [],
   "source": [
    "# Method to remove special character(s) and convert values to float\n",
    "\n",
    "def to_float(x):\n",
    "    if isinstance(x,str):\n",
    "        return float(x.lstrip('<'))\n",
    "    else:\n",
    "        return x"
   ]
  },
  {
   "cell_type": "code",
   "execution_count": 202,
   "metadata": {},
   "outputs": [],
   "source": [
    "# Method to convert population to millions \n",
    "\n",
    "def convert(x):\n",
    "    x = round(x/1000000,2)\n",
    "    return x"
   ]
  },
  {
   "cell_type": "code",
   "execution_count": 203,
   "metadata": {},
   "outputs": [],
   "source": [
    "# Invoke to_float()method to convert column \"Undernourished\"\n",
    "\n",
    "protein['Undernourished']= protein['Undernourished'].apply(to_float)\n",
    "calories['Undernourished']= calories['Undernourished'].apply(to_float)\n",
    "fat['Undernourished']= fat['Undernourished'].apply(to_float)\n",
    "qty['Undernourished']= qty['Undernourished'].apply(to_float)\n"
   ]
  },
  {
   "cell_type": "code",
   "execution_count": 205,
   "metadata": {},
   "outputs": [],
   "source": [
    "# Checking results of to_float methd\n",
    "\n",
    "# qty['Undernourished'].head(25)"
   ]
  },
  {
   "cell_type": "code",
   "execution_count": 206,
   "metadata": {},
   "outputs": [],
   "source": [
    "# Invoke convert() method to convert population to millions\n",
    "\n",
    "protein['Population']= protein['Population'].apply(convert)\n",
    "calories['Population']= calories['Population'].apply(convert)\n",
    "fat['Population']= fat['Population'].apply(convert)\n",
    "qty['Population']= qty['Population'].apply(convert)"
   ]
  },
  {
   "cell_type": "code",
   "execution_count": 207,
   "metadata": {},
   "outputs": [
    {
     "data": {
      "text/html": [
       "<div>\n",
       "<style scoped>\n",
       "    .dataframe tbody tr th:only-of-type {\n",
       "        vertical-align: middle;\n",
       "    }\n",
       "\n",
       "    .dataframe tbody tr th {\n",
       "        vertical-align: top;\n",
       "    }\n",
       "\n",
       "    .dataframe thead th {\n",
       "        text-align: right;\n",
       "    }\n",
       "</style>\n",
       "<table border=\"1\" class=\"dataframe\">\n",
       "  <thead>\n",
       "    <tr style=\"text-align: right;\">\n",
       "      <th></th>\n",
       "      <th>Country</th>\n",
       "      <th>Continent</th>\n",
       "      <th>Alcoholic Beverages</th>\n",
       "      <th>Animal Products</th>\n",
       "      <th>Animal fats</th>\n",
       "      <th>Aquatic Products, Other</th>\n",
       "      <th>Cereals - Excluding Beer</th>\n",
       "      <th>Eggs</th>\n",
       "      <th>Fish, Seafood</th>\n",
       "      <th>Fruits - Excluding Wine</th>\n",
       "      <th>...</th>\n",
       "      <th>Vegetable Oils</th>\n",
       "      <th>Vegetables</th>\n",
       "      <th>Obesity</th>\n",
       "      <th>Undernourished</th>\n",
       "      <th>Confirmed</th>\n",
       "      <th>Deaths</th>\n",
       "      <th>Recovered</th>\n",
       "      <th>Active</th>\n",
       "      <th>Population</th>\n",
       "      <th>Unit (all except Population)</th>\n",
       "    </tr>\n",
       "  </thead>\n",
       "  <tbody>\n",
       "    <tr>\n",
       "      <th>0</th>\n",
       "      <td>Afghanistan</td>\n",
       "      <td>Asia</td>\n",
       "      <td>0.0000</td>\n",
       "      <td>4.7774</td>\n",
       "      <td>0.8504</td>\n",
       "      <td>0.0</td>\n",
       "      <td>37.1186</td>\n",
       "      <td>0.1501</td>\n",
       "      <td>0.0000</td>\n",
       "      <td>1.4757</td>\n",
       "      <td>...</td>\n",
       "      <td>2.3012</td>\n",
       "      <td>0.7504</td>\n",
       "      <td>4.5</td>\n",
       "      <td>29.8</td>\n",
       "      <td>0.138283</td>\n",
       "      <td>0.005970</td>\n",
       "      <td>0.116713</td>\n",
       "      <td>0.015601</td>\n",
       "      <td>38.93</td>\n",
       "      <td>%</td>\n",
       "    </tr>\n",
       "    <tr>\n",
       "      <th>1</th>\n",
       "      <td>Albania</td>\n",
       "      <td>Europe</td>\n",
       "      <td>0.9120</td>\n",
       "      <td>16.0930</td>\n",
       "      <td>1.0591</td>\n",
       "      <td>0.0</td>\n",
       "      <td>16.2107</td>\n",
       "      <td>0.8091</td>\n",
       "      <td>0.1471</td>\n",
       "      <td>3.8982</td>\n",
       "      <td>...</td>\n",
       "      <td>2.8244</td>\n",
       "      <td>2.7508</td>\n",
       "      <td>22.3</td>\n",
       "      <td>6.2</td>\n",
       "      <td>2.347956</td>\n",
       "      <td>0.044574</td>\n",
       "      <td>1.396230</td>\n",
       "      <td>0.907153</td>\n",
       "      <td>2.84</td>\n",
       "      <td>%</td>\n",
       "    </tr>\n",
       "    <tr>\n",
       "      <th>2</th>\n",
       "      <td>Algeria</td>\n",
       "      <td>Africa</td>\n",
       "      <td>0.0896</td>\n",
       "      <td>6.0326</td>\n",
       "      <td>0.1941</td>\n",
       "      <td>0.0</td>\n",
       "      <td>25.0112</td>\n",
       "      <td>0.4181</td>\n",
       "      <td>0.1195</td>\n",
       "      <td>3.1805</td>\n",
       "      <td>...</td>\n",
       "      <td>5.7638</td>\n",
       "      <td>2.0457</td>\n",
       "      <td>26.6</td>\n",
       "      <td>3.9</td>\n",
       "      <td>0.233066</td>\n",
       "      <td>0.006373</td>\n",
       "      <td>0.158234</td>\n",
       "      <td>0.068458</td>\n",
       "      <td>44.36</td>\n",
       "      <td>%</td>\n",
       "    </tr>\n",
       "  </tbody>\n",
       "</table>\n",
       "<p>3 rows × 33 columns</p>\n",
       "</div>"
      ],
      "text/plain": [
       "       Country Continent  Alcoholic Beverages  Animal Products  Animal fats  \\\n",
       "0  Afghanistan      Asia               0.0000           4.7774       0.8504   \n",
       "1      Albania    Europe               0.9120          16.0930       1.0591   \n",
       "2      Algeria    Africa               0.0896           6.0326       0.1941   \n",
       "\n",
       "   Aquatic Products, Other  Cereals - Excluding Beer    Eggs  Fish, Seafood  \\\n",
       "0                      0.0                   37.1186  0.1501         0.0000   \n",
       "1                      0.0                   16.2107  0.8091         0.1471   \n",
       "2                      0.0                   25.0112  0.4181         0.1195   \n",
       "\n",
       "   Fruits - Excluding Wine  ...  Vegetable Oils  Vegetables  Obesity  \\\n",
       "0                   1.4757  ...          2.3012      0.7504      4.5   \n",
       "1                   3.8982  ...          2.8244      2.7508     22.3   \n",
       "2                   3.1805  ...          5.7638      2.0457     26.6   \n",
       "\n",
       "   Undernourished  Confirmed    Deaths  Recovered    Active  Population  \\\n",
       "0            29.8   0.138283  0.005970   0.116713  0.015601       38.93   \n",
       "1             6.2   2.347956  0.044574   1.396230  0.907153        2.84   \n",
       "2             3.9   0.233066  0.006373   0.158234  0.068458       44.36   \n",
       "\n",
       "   Unit (all except Population)  \n",
       "0                             %  \n",
       "1                             %  \n",
       "2                             %  \n",
       "\n",
       "[3 rows x 33 columns]"
      ]
     },
     "execution_count": 207,
     "metadata": {},
     "output_type": "execute_result"
    }
   ],
   "source": [
    "calories.head(3)"
   ]
  },
  {
   "cell_type": "code",
   "execution_count": 166,
   "metadata": {},
   "outputs": [],
   "source": [
    "# Rename Population Column to add (million)"
   ]
  },
  {
   "cell_type": "code",
   "execution_count": 208,
   "metadata": {},
   "outputs": [],
   "source": [
    "# calories.rename({'Population': 'Population (Million)'}, axis=1, inplace=True)\n",
    "# protein.rename({'Population': 'Population (Million)'}, axis=1, inplace=True)\n",
    "# fat.rename({'Population': 'Population (Million)'}, axis=1, inplace=True)\n",
    "# qty.rename({'Population': 'Population (Million)'}, axis=1, inplace=True)"
   ]
  },
  {
   "cell_type": "code",
   "execution_count": 210,
   "metadata": {},
   "outputs": [
    {
     "data": {
      "text/html": [
       "<div>\n",
       "<style scoped>\n",
       "    .dataframe tbody tr th:only-of-type {\n",
       "        vertical-align: middle;\n",
       "    }\n",
       "\n",
       "    .dataframe tbody tr th {\n",
       "        vertical-align: top;\n",
       "    }\n",
       "\n",
       "    .dataframe thead th {\n",
       "        text-align: right;\n",
       "    }\n",
       "</style>\n",
       "<table border=\"1\" class=\"dataframe\">\n",
       "  <thead>\n",
       "    <tr style=\"text-align: right;\">\n",
       "      <th></th>\n",
       "      <th>Country</th>\n",
       "      <th>Continent</th>\n",
       "      <th>Alcoholic Beverages</th>\n",
       "      <th>Animal fats</th>\n",
       "      <th>Animal Products</th>\n",
       "      <th>Aquatic Products, Other</th>\n",
       "      <th>Cereals - Excluding Beer</th>\n",
       "      <th>Eggs</th>\n",
       "      <th>Fish, Seafood</th>\n",
       "      <th>Fruits - Excluding Wine</th>\n",
       "      <th>...</th>\n",
       "      <th>Vegetables</th>\n",
       "      <th>Vegetal Products</th>\n",
       "      <th>Obesity</th>\n",
       "      <th>Undernourished</th>\n",
       "      <th>Confirmed</th>\n",
       "      <th>Deaths</th>\n",
       "      <th>Recovered</th>\n",
       "      <th>Active</th>\n",
       "      <th>Population (Million)</th>\n",
       "      <th>Unit (all except Population)</th>\n",
       "    </tr>\n",
       "  </thead>\n",
       "  <tbody>\n",
       "    <tr>\n",
       "      <th>0</th>\n",
       "      <td>Afghanistan</td>\n",
       "      <td>Asia</td>\n",
       "      <td>0.0014</td>\n",
       "      <td>0.1973</td>\n",
       "      <td>9.4341</td>\n",
       "      <td>0.0</td>\n",
       "      <td>24.8097</td>\n",
       "      <td>0.2099</td>\n",
       "      <td>0.0350</td>\n",
       "      <td>5.3495</td>\n",
       "      <td>...</td>\n",
       "      <td>6.7642</td>\n",
       "      <td>40.5645</td>\n",
       "      <td>4.5</td>\n",
       "      <td>29.8</td>\n",
       "      <td>0.138283</td>\n",
       "      <td>0.005970</td>\n",
       "      <td>0.116713</td>\n",
       "      <td>0.015601</td>\n",
       "      <td>38.93</td>\n",
       "      <td>%</td>\n",
       "    </tr>\n",
       "    <tr>\n",
       "      <th>1</th>\n",
       "      <td>Albania</td>\n",
       "      <td>Europe</td>\n",
       "      <td>1.6719</td>\n",
       "      <td>0.1357</td>\n",
       "      <td>18.7684</td>\n",
       "      <td>0.0</td>\n",
       "      <td>5.7817</td>\n",
       "      <td>0.5815</td>\n",
       "      <td>0.2126</td>\n",
       "      <td>6.7861</td>\n",
       "      <td>...</td>\n",
       "      <td>11.7753</td>\n",
       "      <td>31.2304</td>\n",
       "      <td>22.3</td>\n",
       "      <td>6.2</td>\n",
       "      <td>2.347956</td>\n",
       "      <td>0.044574</td>\n",
       "      <td>1.396230</td>\n",
       "      <td>0.907153</td>\n",
       "      <td>2.84</td>\n",
       "      <td>%</td>\n",
       "    </tr>\n",
       "  </tbody>\n",
       "</table>\n",
       "<p>2 rows × 33 columns</p>\n",
       "</div>"
      ],
      "text/plain": [
       "       Country Continent  Alcoholic Beverages  Animal fats  Animal Products  \\\n",
       "0  Afghanistan      Asia               0.0014       0.1973           9.4341   \n",
       "1      Albania    Europe               1.6719       0.1357          18.7684   \n",
       "\n",
       "   Aquatic Products, Other  Cereals - Excluding Beer    Eggs  Fish, Seafood  \\\n",
       "0                      0.0                   24.8097  0.2099         0.0350   \n",
       "1                      0.0                    5.7817  0.5815         0.2126   \n",
       "\n",
       "   Fruits - Excluding Wine  ...  Vegetables  Vegetal Products  Obesity  \\\n",
       "0                   5.3495  ...      6.7642           40.5645      4.5   \n",
       "1                   6.7861  ...     11.7753           31.2304     22.3   \n",
       "\n",
       "   Undernourished  Confirmed    Deaths  Recovered    Active  \\\n",
       "0            29.8   0.138283  0.005970   0.116713  0.015601   \n",
       "1             6.2   2.347956  0.044574   1.396230  0.907153   \n",
       "\n",
       "   Population (Million)  Unit (all except Population)  \n",
       "0                 38.93                             %  \n",
       "1                  2.84                             %  \n",
       "\n",
       "[2 rows x 33 columns]"
      ]
     },
     "execution_count": 210,
     "metadata": {},
     "output_type": "execute_result"
    }
   ],
   "source": [
    "# calories.head(2)\n",
    "qty.head(2)"
   ]
  },
  {
   "cell_type": "code",
   "execution_count": 211,
   "metadata": {},
   "outputs": [
    {
     "data": {
      "text/html": [
       "<div>\n",
       "<style scoped>\n",
       "    .dataframe tbody tr th:only-of-type {\n",
       "        vertical-align: middle;\n",
       "    }\n",
       "\n",
       "    .dataframe tbody tr th {\n",
       "        vertical-align: top;\n",
       "    }\n",
       "\n",
       "    .dataframe thead th {\n",
       "        text-align: right;\n",
       "    }\n",
       "</style>\n",
       "<table border=\"1\" class=\"dataframe\">\n",
       "  <thead>\n",
       "    <tr style=\"text-align: right;\">\n",
       "      <th></th>\n",
       "      <th>Country</th>\n",
       "      <th>Continent</th>\n",
       "      <th>Alcoholic Beverages</th>\n",
       "      <th>Animal fats</th>\n",
       "      <th>Animal Products</th>\n",
       "      <th>Aquatic Products, Other</th>\n",
       "      <th>Cereals - Excluding Beer</th>\n",
       "      <th>Eggs</th>\n",
       "      <th>Fish, Seafood</th>\n",
       "      <th>Fruits - Excluding Wine</th>\n",
       "      <th>...</th>\n",
       "      <th>Vegetable Oils</th>\n",
       "      <th>Vegetables</th>\n",
       "      <th>Vegetal Products</th>\n",
       "      <th>Obesity</th>\n",
       "      <th>Undernourished</th>\n",
       "      <th>Confirmed</th>\n",
       "      <th>Deaths</th>\n",
       "      <th>Recovered</th>\n",
       "      <th>Active</th>\n",
       "      <th>Population (Million)</th>\n",
       "    </tr>\n",
       "  </thead>\n",
       "  <tbody>\n",
       "    <tr>\n",
       "      <th>0</th>\n",
       "      <td>Afghanistan</td>\n",
       "      <td>Asia</td>\n",
       "      <td>0.0014</td>\n",
       "      <td>0.1973</td>\n",
       "      <td>9.4341</td>\n",
       "      <td>0.0</td>\n",
       "      <td>24.8097</td>\n",
       "      <td>0.2099</td>\n",
       "      <td>0.0350</td>\n",
       "      <td>5.3495</td>\n",
       "      <td>...</td>\n",
       "      <td>0.5345</td>\n",
       "      <td>6.7642</td>\n",
       "      <td>40.5645</td>\n",
       "      <td>4.5</td>\n",
       "      <td>29.8</td>\n",
       "      <td>0.138283</td>\n",
       "      <td>0.005970</td>\n",
       "      <td>0.116713</td>\n",
       "      <td>0.015601</td>\n",
       "      <td>38.93</td>\n",
       "    </tr>\n",
       "    <tr>\n",
       "      <th>1</th>\n",
       "      <td>Albania</td>\n",
       "      <td>Europe</td>\n",
       "      <td>1.6719</td>\n",
       "      <td>0.1357</td>\n",
       "      <td>18.7684</td>\n",
       "      <td>0.0</td>\n",
       "      <td>5.7817</td>\n",
       "      <td>0.5815</td>\n",
       "      <td>0.2126</td>\n",
       "      <td>6.7861</td>\n",
       "      <td>...</td>\n",
       "      <td>0.3261</td>\n",
       "      <td>11.7753</td>\n",
       "      <td>31.2304</td>\n",
       "      <td>22.3</td>\n",
       "      <td>6.2</td>\n",
       "      <td>2.347956</td>\n",
       "      <td>0.044574</td>\n",
       "      <td>1.396230</td>\n",
       "      <td>0.907153</td>\n",
       "      <td>2.84</td>\n",
       "    </tr>\n",
       "    <tr>\n",
       "      <th>2</th>\n",
       "      <td>Algeria</td>\n",
       "      <td>Africa</td>\n",
       "      <td>0.2711</td>\n",
       "      <td>0.0282</td>\n",
       "      <td>9.6334</td>\n",
       "      <td>0.0</td>\n",
       "      <td>13.6816</td>\n",
       "      <td>0.5277</td>\n",
       "      <td>0.2416</td>\n",
       "      <td>6.3801</td>\n",
       "      <td>...</td>\n",
       "      <td>1.0310</td>\n",
       "      <td>11.6484</td>\n",
       "      <td>40.3651</td>\n",
       "      <td>26.6</td>\n",
       "      <td>3.9</td>\n",
       "      <td>0.233066</td>\n",
       "      <td>0.006373</td>\n",
       "      <td>0.158234</td>\n",
       "      <td>0.068458</td>\n",
       "      <td>44.36</td>\n",
       "    </tr>\n",
       "  </tbody>\n",
       "</table>\n",
       "<p>3 rows × 32 columns</p>\n",
       "</div>"
      ],
      "text/plain": [
       "       Country Continent  Alcoholic Beverages  Animal fats  Animal Products  \\\n",
       "0  Afghanistan      Asia               0.0014       0.1973           9.4341   \n",
       "1      Albania    Europe               1.6719       0.1357          18.7684   \n",
       "2      Algeria    Africa               0.2711       0.0282           9.6334   \n",
       "\n",
       "   Aquatic Products, Other  Cereals - Excluding Beer    Eggs  Fish, Seafood  \\\n",
       "0                      0.0                   24.8097  0.2099         0.0350   \n",
       "1                      0.0                    5.7817  0.5815         0.2126   \n",
       "2                      0.0                   13.6816  0.5277         0.2416   \n",
       "\n",
       "   Fruits - Excluding Wine  ...  Vegetable Oils  Vegetables  Vegetal Products  \\\n",
       "0                   5.3495  ...          0.5345      6.7642           40.5645   \n",
       "1                   6.7861  ...          0.3261     11.7753           31.2304   \n",
       "2                   6.3801  ...          1.0310     11.6484           40.3651   \n",
       "\n",
       "   Obesity  Undernourished  Confirmed    Deaths  Recovered    Active  \\\n",
       "0      4.5            29.8   0.138283  0.005970   0.116713  0.015601   \n",
       "1     22.3             6.2   2.347956  0.044574   1.396230  0.907153   \n",
       "2     26.6             3.9   0.233066  0.006373   0.158234  0.068458   \n",
       "\n",
       "   Population (Million)  \n",
       "0                 38.93  \n",
       "1                  2.84  \n",
       "2                 44.36  \n",
       "\n",
       "[3 rows x 32 columns]"
      ]
     },
     "execution_count": 211,
     "metadata": {},
     "output_type": "execute_result"
    }
   ],
   "source": [
    "# Drop the last column\n",
    "\n",
    "# protein.drop(columns=['Unit (all except Population)'],inplace = True)\n",
    "# calories.drop(columns=['Unit (all except Population)'],inplace = True)\n",
    "# fat.drop(columns=['Unit (all except Population)'],inplace = True)\n",
    "# qty.drop(columns=['Unit (all except Population)'],inplace = True)\n",
    "\n",
    "qty.head(3)\n"
   ]
  },
  {
   "cell_type": "markdown",
   "metadata": {},
   "source": [
    "### Categorizing intake source columns into food groups"
   ]
  },
  {
   "cell_type": "code",
   "execution_count": 244,
   "metadata": {},
   "outputs": [],
   "source": [
    "# qty['Meat Products'] = qty.iloc[:,[3,4,10,13]].sum(axis=1)\n",
    "# qty['Aquatic & Seafood'] = qty.iloc[:,[5,8]].sum(axis=1) \n",
    "# qty['Plant Products'] = qty.iloc[:,[6,9,14,15,16,17,21,22,23,24]].sum(axis=1)\n",
    "# qty['Sugars'] = qty.iloc[:,[19,20]].sum(axis=1)\n",
    "\n",
    "# calories['Meat Products'] = calories.iloc[:,[3,4,10,13]].sum(axis=1)\n",
    "# calories['Aquatic & Seafood'] = calories.iloc[:,[5,8]].sum(axis=1) \n",
    "# calories['Plant Products'] = calories.iloc[:,[6,9,14,15,16,17,21,22,23,24]].sum(axis=1)\n",
    "# calories['Sugars'] = calories.iloc[:,[19,20]].sum(axis=1)\n",
    "\n",
    "# protein['Meat Products'] = protein.iloc[:,[3,4,10,12]].sum(axis=1)\n",
    "# protein['Aquatic & Seafood'] = protein.iloc[:,[5,8]].sum(axis=1) \n",
    "# protein['Plant Products'] = protein.iloc[:,[6,9,13,14,15,16,20,21,22,23]].sum(axis=1)\n",
    "# protein['Sugars'] = protein.iloc[:,[18,19]].sum(axis=1)\n",
    "\n",
    "# fat['Meat Products'] = fat.iloc[:,[3,4,10,13]].sum(axis=1)\n",
    "# fat['Aquatic & Seafood'] = fat.iloc[:,[5,8]].sum(axis=1) \n",
    "# fat['Plant Products'] = fat.iloc[:,[6,9,14,15,16,17,21,22,23,24]].sum(axis=1)\n",
    "# fat['Sugars'] = fat.iloc[:,[19,20]].sum(axis=1)\n"
   ]
  },
  {
   "cell_type": "code",
   "execution_count": 258,
   "metadata": {},
   "outputs": [
    {
     "name": "stdout",
     "output_type": "stream",
     "text": [
      "<class 'pandas.core.frame.DataFrame'>\n",
      "Int64Index: 156 entries, 0 to 169\n",
      "Data columns (total 36 columns):\n",
      " #   Column                    Non-Null Count  Dtype  \n",
      "---  ------                    --------------  -----  \n",
      " 0   Country                   156 non-null    object \n",
      " 1   Continent                 156 non-null    object \n",
      " 2   Alcoholic Beverages       156 non-null    float64\n",
      " 3   Animal Products           156 non-null    float64\n",
      " 4   Animal fats               156 non-null    float64\n",
      " 5   Aquatic Products, Other   156 non-null    float64\n",
      " 6   Cereals - Excluding Beer  156 non-null    float64\n",
      " 7   Eggs                      156 non-null    float64\n",
      " 8   Fish, Seafood             156 non-null    float64\n",
      " 9   Fruits - Excluding Wine   156 non-null    float64\n",
      " 10  Meat                      156 non-null    float64\n",
      " 11  Miscellaneous             156 non-null    float64\n",
      " 12  Milk - Excluding Butter   156 non-null    float64\n",
      " 13  Offals                    156 non-null    float64\n",
      " 14  Oilcrops                  156 non-null    float64\n",
      " 15  Pulses                    156 non-null    float64\n",
      " 16  Spices                    156 non-null    float64\n",
      " 17  Starchy Roots             156 non-null    float64\n",
      " 18  Stimulants                156 non-null    float64\n",
      " 19  Sugar Crops               156 non-null    float64\n",
      " 20  Sugar & Sweeteners        156 non-null    float64\n",
      " 21  Treenuts                  156 non-null    float64\n",
      " 22  Vegetal Products          156 non-null    float64\n",
      " 23  Vegetable Oils            156 non-null    float64\n",
      " 24  Vegetables                156 non-null    float64\n",
      " 25  Obesity                   156 non-null    float64\n",
      " 26  Undernourished            156 non-null    float64\n",
      " 27  Confirmed                 156 non-null    float64\n",
      " 28  Deaths                    156 non-null    float64\n",
      " 29  Recovered                 156 non-null    float64\n",
      " 30  Active                    154 non-null    float64\n",
      " 31  Population (Million)      156 non-null    float64\n",
      " 32  Meat Products             156 non-null    float64\n",
      " 33  Aquatic & Seafood         156 non-null    float64\n",
      " 34  Plant Products            156 non-null    float64\n",
      " 35  Sugars                    156 non-null    float64\n",
      "dtypes: float64(34), object(2)\n",
      "memory usage: 45.1+ KB\n"
     ]
    }
   ],
   "source": [
    "fat.info()"
   ]
  },
  {
   "cell_type": "markdown",
   "metadata": {},
   "source": [
    "### Removing individual columns that have been grouped into categories"
   ]
  },
  {
   "cell_type": "code",
   "execution_count": 259,
   "metadata": {},
   "outputs": [],
   "source": [
    "## Dropping individual columns of grouped categories\n",
    "\n",
    "# cols = [3,4,5,6,8,9,10,13,14,15,16,17,19,20,21,22,23,24]\n",
    "# qty.drop(qty.columns[cols],axis=1,inplace=True)\n",
    "\n",
    "# cols = [3,4,5,6,8,9,10,13,14,15,16,17,19,20,21,22,23,24]\n",
    "# calories.drop(calories.columns[cols],axis=1,inplace=True)\n",
    "\n",
    "# cols = [3,4,5,6,8,9,10,12,13,14,15,16,18,19,20,21,22,23]\n",
    "# protein.drop(protein.columns[cols],axis=1,inplace=True)\n",
    "\n",
    "# cols = [3,4,5,6,8,9,10,13,14,15,16,17,19,20,21,22,23,24]\n",
    "# fat.drop(fat.columns[cols],axis=1,inplace=True)\n"
   ]
  },
  {
   "cell_type": "code",
   "execution_count": 262,
   "metadata": {},
   "outputs": [],
   "source": [
    "# fat.head(2)"
   ]
  },
  {
   "cell_type": "markdown",
   "metadata": {},
   "source": [
    "### Correlation between Obesity & COVID mortality rates"
   ]
  },
  {
   "cell_type": "code",
   "execution_count": 264,
   "metadata": {},
   "outputs": [
    {
     "data": {
      "text/html": [
       "<div>\n",
       "<style scoped>\n",
       "    .dataframe tbody tr th:only-of-type {\n",
       "        vertical-align: middle;\n",
       "    }\n",
       "\n",
       "    .dataframe tbody tr th {\n",
       "        vertical-align: top;\n",
       "    }\n",
       "\n",
       "    .dataframe thead th {\n",
       "        text-align: right;\n",
       "    }\n",
       "</style>\n",
       "<table border=\"1\" class=\"dataframe\">\n",
       "  <thead>\n",
       "    <tr style=\"text-align: right;\">\n",
       "      <th></th>\n",
       "      <th>Obesity</th>\n",
       "      <th>Deaths</th>\n",
       "    </tr>\n",
       "  </thead>\n",
       "  <tbody>\n",
       "    <tr>\n",
       "      <th>0</th>\n",
       "      <td>4.5</td>\n",
       "      <td>0.005970</td>\n",
       "    </tr>\n",
       "    <tr>\n",
       "      <th>1</th>\n",
       "      <td>22.3</td>\n",
       "      <td>0.044574</td>\n",
       "    </tr>\n",
       "    <tr>\n",
       "      <th>2</th>\n",
       "      <td>26.6</td>\n",
       "      <td>0.006373</td>\n",
       "    </tr>\n",
       "    <tr>\n",
       "      <th>3</th>\n",
       "      <td>6.8</td>\n",
       "      <td>0.001316</td>\n",
       "    </tr>\n",
       "    <tr>\n",
       "      <th>5</th>\n",
       "      <td>28.5</td>\n",
       "      <td>0.099669</td>\n",
       "    </tr>\n",
       "    <tr>\n",
       "      <th>...</th>\n",
       "      <td>...</td>\n",
       "      <td>...</td>\n",
       "    </tr>\n",
       "    <tr>\n",
       "      <th>165</th>\n",
       "      <td>25.2</td>\n",
       "      <td>0.003823</td>\n",
       "    </tr>\n",
       "    <tr>\n",
       "      <th>166</th>\n",
       "      <td>2.1</td>\n",
       "      <td>0.000036</td>\n",
       "    </tr>\n",
       "    <tr>\n",
       "      <th>167</th>\n",
       "      <td>14.1</td>\n",
       "      <td>0.002052</td>\n",
       "    </tr>\n",
       "    <tr>\n",
       "      <th>168</th>\n",
       "      <td>6.5</td>\n",
       "      <td>0.002867</td>\n",
       "    </tr>\n",
       "    <tr>\n",
       "      <th>169</th>\n",
       "      <td>12.3</td>\n",
       "      <td>0.004481</td>\n",
       "    </tr>\n",
       "  </tbody>\n",
       "</table>\n",
       "<p>156 rows × 2 columns</p>\n",
       "</div>"
      ],
      "text/plain": [
       "     Obesity    Deaths\n",
       "0        4.5  0.005970\n",
       "1       22.3  0.044574\n",
       "2       26.6  0.006373\n",
       "3        6.8  0.001316\n",
       "5       28.5  0.099669\n",
       "..       ...       ...\n",
       "165     25.2  0.003823\n",
       "166      2.1  0.000036\n",
       "167     14.1  0.002052\n",
       "168      6.5  0.002867\n",
       "169     12.3  0.004481\n",
       "\n",
       "[156 rows x 2 columns]"
      ]
     },
     "execution_count": 264,
     "metadata": {},
     "output_type": "execute_result"
    }
   ],
   "source": [
    "obesity = protein[['Obesity', 'Deaths']]\n",
    "obesity"
   ]
  },
  {
   "cell_type": "code",
   "execution_count": 266,
   "metadata": {},
   "outputs": [
    {
     "data": {
      "image/png": "[encoded data removed]",
      "text/plain": [
       "<Figure size 432x288 with 1 Axes>"
      ]
     },
     "metadata": {
      "needs_background": "light"
     },
     "output_type": "display_data"
    }
   ],
   "source": [
    "# Scatter plot showing correlation between Obesity & death rates\n",
    "\n",
    "sns.regplot(x='Obesity', y='Deaths', color=\"blue\", data=obesity);"
   ]
  },
  {
   "cell_type": "markdown",
   "metadata": {},
   "source": [
    "Data indicates positive correlation between obesity rate and COVID deaths"
   ]
  },
  {
   "cell_type": "markdown",
   "metadata": {},
   "source": [
    "### Impact of Food Intake sources on COVID mortality rates"
   ]
  },
  {
   "cell_type": "code",
   "execution_count": 285,
   "metadata": {},
   "outputs": [
    {
     "data": {
      "image/png": "[encoded data removed]",
      "text/plain": [
       "<Figure size 432x288 with 2 Axes>"
      ]
     },
     "metadata": {
      "needs_background": "light"
     },
     "output_type": "display_data"
    },
    {
     "data": {
      "image/png": "[encoded data removed]",
      "text/plain": [
       "<Figure size 432x288 with 2 Axes>"
      ]
     },
     "metadata": {
      "needs_background": "light"
     },
     "output_type": "display_data"
    },
    {
     "data": {
      "image/png": "[encoded data removed]",
      "text/plain": [
       "<Figure size 432x288 with 2 Axes>"
      ]
     },
     "metadata": {
      "needs_background": "light"
     },
     "output_type": "display_data"
    }
   ],
   "source": [
    "# Correlation Matrix between Protein intake sources & COVID Deaths\n",
    "\n",
    "compare1 = ['Alcoholic Beverages','Sugars','Eggs','Meat Products','Plant Products','Aquatic & Seafood','Stimulants','Deaths']\n",
    "df = protein[compare1]\n",
    "corr1 = df.corr()\n",
    "mask1 = np.triu(np.ones_like(corr1, dtype=np.bool))\n",
    "\n",
    "# Using seaborn heatmap() method to plot the Matrix\n",
    "# Color Options: \"Blues\", \"YlOrBr\", 'Purples_r', 'RdBu', 'RdBu_r', 'RdGy', 'RdGy_r', 'RdPu', 'RdPu_r\n",
    "# 'YlGn', 'YlGnBu', 'YlGnBu_r', 'YlGn_r', 'YlOrBr\n",
    "\n",
    "sns.heatmap(corr1, mask=mask1, annot=True, cmap=\"YlGnBu\", linewidths=.1)\n",
    "\n",
    "# Labels\n",
    "yticks = [i.upper() for i in corr1.index]\n",
    "xticks = [i.upper() for i in corr1.columns]\n",
    "plt.yticks(plt.yticks()[0], labels=yticks, rotation=0)\n",
    "plt.xticks(plt.xticks()[0], labels=xticks)\n",
    "\n",
    "# Title\n",
    "title = 'CORRELATION MATRIX\\nPROTEIN SOURCE & COVID MORTALITY\\n'\n",
    "plt.title(title, loc='center', fontsize=12)\n",
    "plt.show()\n",
    "\n",
    "#####\n",
    "\n",
    "# Correlation Matrix between Calorie intake sources & COVID Deaths\n",
    "\n",
    "compare2 = ['Alcoholic Beverages','Sugars','Eggs','Meat Products','Plant Products','Aquatic & Seafood','Stimulants','Deaths']\n",
    "df2 = calories[compare2]\n",
    "corr2 = df2.corr()\n",
    "mask2 = np.triu(np.ones_like(corr2, dtype=np.bool))\n",
    "\n",
    "# Using seaborn heatmap() method to plot the Matrix\n",
    "# Color options 'YlOrBr', \"YlGnBu\"\n",
    "\n",
    "sns.heatmap(corr2, mask=mask2, annot=True, cmap=\"YlOrBr\", linewidths=.1)\n",
    "\n",
    "# Labels\n",
    "yticks = [i.upper() for i in corr2.index]\n",
    "xticks = [i.upper() for i in corr2.columns]\n",
    "plt.yticks(plt.yticks()[0], labels=yticks, rotation=0)\n",
    "plt.xticks(plt.xticks()[0], labels=xticks)\n",
    "\n",
    "# Title\n",
    "title = 'CORRELATION MATRIX\\nCALORIE SOURCE & COVID MORTALITY\\n'\n",
    "plt.title(title, loc='center', fontsize=12)\n",
    "plt.show()\n",
    "\n",
    "\n",
    "\n",
    "# Correlation Matrix between Fat intake sources & COVID Deaths\n",
    "\n",
    "compare3 = ['Alcoholic Beverages','Sugars','Eggs','Meat Products','Plant Products','Aquatic & Seafood','Stimulants','Deaths']\n",
    "df3 = fat[compare3]\n",
    "corr3 = df3.corr()\n",
    "mask3 = np.triu(np.ones_like(corr3, dtype=np.bool))\n",
    "\n",
    "# Using seaborn heatmap() method to plot the Matrix\n",
    "# Color Options: \"Blues\", \"YlOrBr\", 'Purples_r', 'RdBu', 'RdBu_r', 'RdGy', 'RdGy_r', 'RdPu', 'RdPu_r\n",
    "# 'YlGn', 'YlGnBu', 'YlGnBu_r', 'YlGn_r'\n",
    "\n",
    "sns.heatmap(corr3, mask=mask3, annot=True, cmap=\"Blues\", linewidths=.1)\n",
    "\n",
    "# Labels\n",
    "yticks = [i.upper() for i in corr3.index]\n",
    "xticks = [i.upper() for i in corr3.columns]\n",
    "plt.yticks(plt.yticks()[0], labels=yticks, rotation=0)\n",
    "plt.xticks(plt.xticks()[0], labels=xticks)\n",
    "\n",
    "# Title\n",
    "title = 'CORRELATION MATRIX\\nFAT SOURCE & COVID MORTALITY\\n'\n",
    "plt.title(title, loc='center', fontsize=12)\n",
    "plt.show()\n",
    "\n",
    "\n"
   ]
  },
  {
   "cell_type": "markdown",
   "metadata": {},
   "source": [
    "- Data shows stronger correlation between Calories & Protein intake from Alcoholic beverages, Meat Products, Eggs and higher COVID mortality rate\n",
    "- Negative correlation between Plants/Aquatic sources & COVID deaths\n",
    "- Key takeaways - EAT YOUR VEGGIES & DRINK IN MODERATION\n"
   ]
  },
  {
   "cell_type": "markdown",
   "metadata": {},
   "source": [
    "#### Kernel Density Estimation (KDE)"
   ]
  },
  {
   "cell_type": "code",
   "execution_count": 275,
   "metadata": {},
   "outputs": [
    {
     "data": {
      "image/png": "[encoded data removed]",
      "text/plain": [
       "<Figure size 864x576 with 1 Axes>"
      ]
     },
     "metadata": {
      "needs_background": "light"
     },
     "output_type": "display_data"
    }
   ],
   "source": [
    "fig, ax = plt.subplots(1, figsize=(12,8))\n",
    "sns.kdeplot(df['Meat Products'], df['Deaths'], cmap='Blues', shade=True, shade_lowest=False, clip=(-1,300))\n",
    "plt.scatter(df['Meat Products'], df['Deaths'], color='red')\n",
    "plt.show()"
   ]
  },
  {
   "cell_type": "markdown",
   "metadata": {},
   "source": [
    "        Heatmap showing data clustering (protein from meat products vs COVID death rate)\n"
   ]
  },
  {
   "cell_type": "code",
   "execution_count": 286,
   "metadata": {},
   "outputs": [
    {
     "data": {
      "image/png": "[encoded data removed]",
      "text/plain": [
       "<Figure size 864x576 with 1 Axes>"
      ]
     },
     "metadata": {
      "needs_background": "light"
     },
     "output_type": "display_data"
    }
   ],
   "source": [
    "fig, ax = plt.subplots(1, figsize=(12,8))\n",
    "sns.kdeplot(df2['Meat Products'], df2['Deaths'], cmap='Blues', shade=True, shade_lowest=False, clip=(-1,300))\n",
    "plt.scatter(df2['Meat Products'], df2['Deaths'], color='navy')\n",
    "plt.show()"
   ]
  },
  {
   "cell_type": "markdown",
   "metadata": {},
   "source": [
    "       Heatmap showing data clustering (calories from meat products vs COVID death rate)"
   ]
  },
  {
   "cell_type": "code",
   "execution_count": null,
   "metadata": {},
   "outputs": [],
   "source": []
  }
 ],
 "metadata": {
  "kernelspec": {
   "display_name": "Python 3",
   "language": "python",
   "name": "python3"
  },
  "language_info": {
   "codemirror_mode": {
    "name": "ipython",
    "version": 3
   },
   "file_extension": ".py",
   "mimetype": "text/x-python",
   "name": "python",
   "nbconvert_exporter": "python",
   "pygments_lexer": "ipython3",
   "version": "3.8.3"
  }
 },
 "nbformat": 4,
 "nbformat_minor": 4
}
